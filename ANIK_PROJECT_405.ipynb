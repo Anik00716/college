{
  "cells": [
    {
      "cell_type": "code",
      "execution_count": 1,
      "id": "296ce947",
      "metadata": {
        "id": "296ce947",
        "tags": []
      },
      "outputs": [],
      "source": [
        "import pandas as pd\n",
        "\n",
        "df1 = pd.read_csv('zomato.csv')"
      ]
    },
    {
      "cell_type": "code",
      "execution_count": 2,
      "id": "07230387",
      "metadata": {
        "colab": {
          "base_uri": "https://localhost:8080/"
        },
        "id": "07230387",
        "outputId": "5e5a102f-fc81-4d8a-ca5c-6d87d4d80525",
        "tags": []
      },
      "outputs": [
        {
          "name": "stdout",
          "output_type": "stream",
          "text": [
            "         Date        Open        High         Low       Close   Adj Close  \\\n",
            "0  2021-07-23  116.000000  138.899994  115.000000  126.000000  126.000000   \n",
            "1  2021-07-26  126.349998  143.750000  125.300003  140.649994  140.649994   \n",
            "2  2021-07-27  141.699997  147.800003  127.750000  132.899994  132.899994   \n",
            "3  2021-07-28  131.000000  135.000000  123.550003  131.199997  131.199997   \n",
            "4  2021-07-29  134.949997  144.000000  132.199997  141.550003  141.550003   \n",
            "5  2021-07-30  142.600006  142.699997  131.000000  133.500000  133.500000   \n",
            "6  2021-08-02  135.750000  140.750000  135.149994  139.699997  139.699997   \n",
            "7  2021-08-03  137.000000  140.800003  137.000000  139.399994  139.399994   \n",
            "8  2021-08-04  139.800003  141.000000  135.250000  138.399994  138.399994   \n",
            "9  2021-08-05  138.750000  138.899994  132.000000  134.949997  134.949997   \n",
            "\n",
            "      Volume  \n",
            "0  694895290  \n",
            "1  249723854  \n",
            "2  240341900  \n",
            "3  159793731  \n",
            "4  117973089  \n",
            "5   88312522  \n",
            "6   66909732  \n",
            "7   46610001  \n",
            "8   41134419  \n",
            "9   38437134  \n"
          ]
        }
      ],
      "source": [
        "print(df1.head(10))"
      ]
    },
    {
      "cell_type": "code",
      "execution_count": 3,
      "id": "55d48124",
      "metadata": {
        "colab": {
          "base_uri": "https://localhost:8080/"
        },
        "id": "55d48124",
        "outputId": "c49cdc47-b449-406f-9754-eba5ac4a5167",
        "tags": []
      },
      "outputs": [
        {
          "name": "stdout",
          "output_type": "stream",
          "text": [
            "           Date        Open        High         Low       Close   Adj Close  \\\n",
            "621  2024-01-24  131.449997  136.899994  129.800003  136.199997  136.199997   \n",
            "622  2024-01-25  135.899994  138.199997  132.800003  136.149994  136.149994   \n",
            "623  2024-01-29  136.899994  137.699997  132.350006  135.550003  135.550003   \n",
            "624  2024-01-30  135.850006  138.800003  134.649994  137.199997  137.199997   \n",
            "625  2024-01-31  140.000000  142.000000  138.000000  139.550003  139.550003   \n",
            "626  2024-02-01  141.000000  143.500000  138.550003  140.550003  140.550003   \n",
            "627  2024-02-02  141.800003  145.000000  141.449997  143.800003  143.800003   \n",
            "628  2024-02-05  145.000000  145.399994  138.250000  140.250000  140.250000   \n",
            "629  2024-02-06  140.399994  141.800003  138.050003  139.949997  139.949997   \n",
            "630  2024-02-07  141.000000  142.899994  139.649994  140.399994  140.399994   \n",
            "\n",
            "       Volume  \n",
            "621  54612769  \n",
            "622  60682540  \n",
            "623  55871017  \n",
            "624  57612020  \n",
            "625  89833027  \n",
            "626  70252449  \n",
            "627  78666454  \n",
            "628  54189688  \n",
            "629  46782951  \n",
            "630  75083259  \n"
          ]
        }
      ],
      "source": [
        "print(df1.tail(10))"
      ]
    },
    {
      "cell_type": "code",
      "execution_count": 4,
      "id": "cc80307a",
      "metadata": {
        "colab": {
          "base_uri": "https://localhost:8080/"
        },
        "id": "cc80307a",
        "outputId": "bbabd1b4-c292-40c3-cd09-976f3005ac5f",
        "tags": []
      },
      "outputs": [
        {
          "name": "stdout",
          "output_type": "stream",
          "text": [
            "Date          object\n",
            "Open         float64\n",
            "High         float64\n",
            "Low          float64\n",
            "Close        float64\n",
            "Adj Close    float64\n",
            "Volume         int64\n",
            "dtype: object\n"
          ]
        }
      ],
      "source": [
        "print(df1.dtypes)"
      ]
    },
    {
      "cell_type": "code",
      "execution_count": 5,
      "id": "142ccec7",
      "metadata": {
        "id": "142ccec7",
        "tags": []
      },
      "outputs": [],
      "source": [
        "import seaborn as sns"
      ]
    },
    {
      "cell_type": "code",
      "execution_count": 6,
      "id": "7a406a7d",
      "metadata": {
        "colab": {
          "base_uri": "https://localhost:8080/",
          "height": 428
        },
        "id": "7a406a7d",
        "outputId": "1c05b71f-0c39-483c-8b77-1e438d6cff34",
        "tags": []
      },
      "outputs": [
        {
          "data": {
            "text/plain": [
              "<Axes: >"
            ]
          },
          "execution_count": 6,
          "metadata": {},
          "output_type": "execute_result"
        },
        {
          "data": {
            "image/png": "[encoded data removed]",
            "text/plain": [
              "<Figure size 640x480 with 1 Axes>"
            ]
          },
          "metadata": {},
          "output_type": "display_data"
        }
      ],
      "source": [
        "l=[12,25,42,23,25,100,1007]\n",
        "l\n",
        "sns.boxplot(data=l)"
      ]
    },
    {
      "cell_type": "code",
      "execution_count": 7,
      "id": "b1bd3770",
      "metadata": {
        "colab": {
          "base_uri": "https://localhost:8080/",
          "height": 466
        },
        "id": "b1bd3770",
        "outputId": "f453efef-b80b-4f8b-a26b-8545318fa972",
        "tags": []
      },
      "outputs": [
        {
          "data": {
            "text/plain": [
              "<Axes: xlabel='Volume'>"
            ]
          },
          "execution_count": 7,
          "metadata": {},
          "output_type": "execute_result"
        },
        {
          "data": {
            "image/png": "[encoded data removed]",
            "text/plain": [
              "<Figure size 640x480 with 1 Axes>"
            ]
          },
          "metadata": {},
          "output_type": "display_data"
        }
      ],
      "source": [
        "sns.boxplot(x=\"Volume\", data=df1)"
      ]
    },
    {
      "cell_type": "code",
      "execution_count": 8,
      "id": "81749fa4",
      "metadata": {
        "colab": {
          "base_uri": "https://localhost:8080/"
        },
        "id": "81749fa4",
        "outputId": "ada1a86a-0951-4023-bd8e-84ea4cebae2f",
        "tags": []
      },
      "outputs": [
        {
          "name": "stdout",
          "output_type": "stream",
          "text": [
            "count    6.310000e+02\n",
            "mean     6.731737e+07\n",
            "std      7.461030e+07\n",
            "min      0.000000e+00\n",
            "25%      2.800788e+07\n",
            "50%      4.759710e+07\n",
            "75%      7.525439e+07\n",
            "max      6.948953e+08\n",
            "Name: Volume, dtype: float64\n"
          ]
        }
      ],
      "source": [
        "print(df1[\"Volume\"].describe())"
      ]
    },
    {
      "cell_type": "code",
      "execution_count": null,
      "id": "JaluEN1AHcQQ",
      "metadata": {
        "id": "JaluEN1AHcQQ"
      },
      "outputs": [],
      "source": []
    },
    {
      "cell_type": "markdown",
      "id": "Vny3HOqZHisv",
      "metadata": {
        "id": "Vny3HOqZHisv"
      },
      "source": [
        "# **Day 2**"
      ]
    },
    {
      "cell_type": "code",
      "execution_count": 9,
      "id": "79fff6b1",
      "metadata": {
        "colab": {
          "base_uri": "https://localhost:8080/"
        },
        "id": "79fff6b1",
        "outputId": "456fc11f-1585-4831-dd53-e898b0c26240"
      },
      "outputs": [
        {
          "data": {
            "text/plain": [
              "(631, 7)"
            ]
          },
          "execution_count": 9,
          "metadata": {},
          "output_type": "execute_result"
        }
      ],
      "source": [
        "df1.shape   # to know the discontinuous of our dataset\n"
      ]
    },
    {
      "cell_type": "code",
      "execution_count": 10,
      "id": "wits1M8gIEfA",
      "metadata": {
        "id": "wits1M8gIEfA"
      },
      "outputs": [],
      "source": [
        "import pandas as pd"
      ]
    },
    {
      "cell_type": "code",
      "execution_count": 11,
      "id": "HvjTS5nLHsF-",
      "metadata": {
        "colab": {
          "base_uri": "https://localhost:8080/",
          "height": 423
        },
        "id": "HvjTS5nLHsF-",
        "outputId": "5a277ea9-7eae-4baa-aab9-e797a32b5f13"
      },
      "outputs": [
        {
          "data": {
            "text/html": [
              "<div>\n",
              "<style scoped>\n",
              "    .dataframe tbody tr th:only-of-type {\n",
              "        vertical-align: middle;\n",
              "    }\n",
              "\n",
              "    .dataframe tbody tr th {\n",
              "        vertical-align: top;\n",
              "    }\n",
              "\n",
              "    .dataframe thead th {\n",
              "        text-align: right;\n",
              "    }\n",
              "</style>\n",
              "<table border=\"1\" class=\"dataframe\">\n",
              "  <thead>\n",
              "    <tr style=\"text-align: right;\">\n",
              "      <th></th>\n",
              "      <th>Date</th>\n",
              "      <th>Open</th>\n",
              "      <th>High</th>\n",
              "      <th>Low</th>\n",
              "      <th>Close</th>\n",
              "      <th>Adj Close</th>\n",
              "      <th>Volume</th>\n",
              "    </tr>\n",
              "  </thead>\n",
              "  <tbody>\n",
              "    <tr>\n",
              "      <th>0</th>\n",
              "      <td>False</td>\n",
              "      <td>False</td>\n",
              "      <td>False</td>\n",
              "      <td>False</td>\n",
              "      <td>False</td>\n",
              "      <td>False</td>\n",
              "      <td>False</td>\n",
              "    </tr>\n",
              "    <tr>\n",
              "      <th>1</th>\n",
              "      <td>False</td>\n",
              "      <td>False</td>\n",
              "      <td>False</td>\n",
              "      <td>False</td>\n",
              "      <td>False</td>\n",
              "      <td>False</td>\n",
              "      <td>False</td>\n",
              "    </tr>\n",
              "    <tr>\n",
              "      <th>2</th>\n",
              "      <td>False</td>\n",
              "      <td>False</td>\n",
              "      <td>False</td>\n",
              "      <td>False</td>\n",
              "      <td>False</td>\n",
              "      <td>False</td>\n",
              "      <td>False</td>\n",
              "    </tr>\n",
              "    <tr>\n",
              "      <th>3</th>\n",
              "      <td>False</td>\n",
              "      <td>False</td>\n",
              "      <td>False</td>\n",
              "      <td>False</td>\n",
              "      <td>False</td>\n",
              "      <td>False</td>\n",
              "      <td>False</td>\n",
              "    </tr>\n",
              "    <tr>\n",
              "      <th>4</th>\n",
              "      <td>False</td>\n",
              "      <td>False</td>\n",
              "      <td>False</td>\n",
              "      <td>False</td>\n",
              "      <td>False</td>\n",
              "      <td>False</td>\n",
              "      <td>False</td>\n",
              "    </tr>\n",
              "    <tr>\n",
              "      <th>...</th>\n",
              "      <td>...</td>\n",
              "      <td>...</td>\n",
              "      <td>...</td>\n",
              "      <td>...</td>\n",
              "      <td>...</td>\n",
              "      <td>...</td>\n",
              "      <td>...</td>\n",
              "    </tr>\n",
              "    <tr>\n",
              "      <th>626</th>\n",
              "      <td>False</td>\n",
              "      <td>False</td>\n",
              "      <td>False</td>\n",
              "      <td>False</td>\n",
              "      <td>False</td>\n",
              "      <td>False</td>\n",
              "      <td>False</td>\n",
              "    </tr>\n",
              "    <tr>\n",
              "      <th>627</th>\n",
              "      <td>False</td>\n",
              "      <td>False</td>\n",
              "      <td>False</td>\n",
              "      <td>False</td>\n",
              "      <td>False</td>\n",
              "      <td>False</td>\n",
              "      <td>False</td>\n",
              "    </tr>\n",
              "    <tr>\n",
              "      <th>628</th>\n",
              "      <td>False</td>\n",
              "      <td>False</td>\n",
              "      <td>False</td>\n",
              "      <td>False</td>\n",
              "      <td>False</td>\n",
              "      <td>False</td>\n",
              "      <td>False</td>\n",
              "    </tr>\n",
              "    <tr>\n",
              "      <th>629</th>\n",
              "      <td>False</td>\n",
              "      <td>False</td>\n",
              "      <td>False</td>\n",
              "      <td>False</td>\n",
              "      <td>False</td>\n",
              "      <td>False</td>\n",
              "      <td>False</td>\n",
              "    </tr>\n",
              "    <tr>\n",
              "      <th>630</th>\n",
              "      <td>False</td>\n",
              "      <td>False</td>\n",
              "      <td>False</td>\n",
              "      <td>False</td>\n",
              "      <td>False</td>\n",
              "      <td>False</td>\n",
              "      <td>False</td>\n",
              "    </tr>\n",
              "  </tbody>\n",
              "</table>\n",
              "<p>631 rows × 7 columns</p>\n",
              "</div>"
            ],
            "text/plain": [
              "      Date   Open   High    Low  Close  Adj Close  Volume\n",
              "0    False  False  False  False  False      False   False\n",
              "1    False  False  False  False  False      False   False\n",
              "2    False  False  False  False  False      False   False\n",
              "3    False  False  False  False  False      False   False\n",
              "4    False  False  False  False  False      False   False\n",
              "..     ...    ...    ...    ...    ...        ...     ...\n",
              "626  False  False  False  False  False      False   False\n",
              "627  False  False  False  False  False      False   False\n",
              "628  False  False  False  False  False      False   False\n",
              "629  False  False  False  False  False      False   False\n",
              "630  False  False  False  False  False      False   False\n",
              "\n",
              "[631 rows x 7 columns]"
            ]
          },
          "execution_count": 11,
          "metadata": {},
          "output_type": "execute_result"
        }
      ],
      "source": [
        "df1.isnull()"
      ]
    },
    {
      "cell_type": "code",
      "execution_count": 12,
      "id": "kwssWCSoH7t9",
      "metadata": {
        "colab": {
          "base_uri": "https://localhost:8080/"
        },
        "id": "kwssWCSoH7t9",
        "outputId": "3c45b158-7e34-49b5-b760-021503903737"
      },
      "outputs": [
        {
          "data": {
            "text/plain": [
              "0"
            ]
          },
          "execution_count": 12,
          "metadata": {},
          "output_type": "execute_result"
        }
      ],
      "source": [
        "df1.isnull().sum().sum()"
      ]
    },
    {
      "cell_type": "code",
      "execution_count": 13,
      "id": "pnwtnDKaJGGj",
      "metadata": {
        "colab": {
          "base_uri": "https://localhost:8080/",
          "height": 423
        },
        "id": "pnwtnDKaJGGj",
        "outputId": "a34b51ac-8807-4f07-8725-1cc21aec3b2f"
      },
      "outputs": [
        {
          "data": {
            "text/html": [
              "<div>\n",
              "<style scoped>\n",
              "    .dataframe tbody tr th:only-of-type {\n",
              "        vertical-align: middle;\n",
              "    }\n",
              "\n",
              "    .dataframe tbody tr th {\n",
              "        vertical-align: top;\n",
              "    }\n",
              "\n",
              "    .dataframe thead th {\n",
              "        text-align: right;\n",
              "    }\n",
              "</style>\n",
              "<table border=\"1\" class=\"dataframe\">\n",
              "  <thead>\n",
              "    <tr style=\"text-align: right;\">\n",
              "      <th></th>\n",
              "      <th>Date</th>\n",
              "      <th>Open</th>\n",
              "      <th>High</th>\n",
              "      <th>Low</th>\n",
              "      <th>Close</th>\n",
              "      <th>Adj Close</th>\n",
              "      <th>Volume</th>\n",
              "    </tr>\n",
              "  </thead>\n",
              "  <tbody>\n",
              "    <tr>\n",
              "      <th>0</th>\n",
              "      <td>True</td>\n",
              "      <td>True</td>\n",
              "      <td>True</td>\n",
              "      <td>True</td>\n",
              "      <td>True</td>\n",
              "      <td>True</td>\n",
              "      <td>True</td>\n",
              "    </tr>\n",
              "    <tr>\n",
              "      <th>1</th>\n",
              "      <td>True</td>\n",
              "      <td>True</td>\n",
              "      <td>True</td>\n",
              "      <td>True</td>\n",
              "      <td>True</td>\n",
              "      <td>True</td>\n",
              "      <td>True</td>\n",
              "    </tr>\n",
              "    <tr>\n",
              "      <th>2</th>\n",
              "      <td>True</td>\n",
              "      <td>True</td>\n",
              "      <td>True</td>\n",
              "      <td>True</td>\n",
              "      <td>True</td>\n",
              "      <td>True</td>\n",
              "      <td>True</td>\n",
              "    </tr>\n",
              "    <tr>\n",
              "      <th>3</th>\n",
              "      <td>True</td>\n",
              "      <td>True</td>\n",
              "      <td>True</td>\n",
              "      <td>True</td>\n",
              "      <td>True</td>\n",
              "      <td>True</td>\n",
              "      <td>True</td>\n",
              "    </tr>\n",
              "    <tr>\n",
              "      <th>4</th>\n",
              "      <td>True</td>\n",
              "      <td>True</td>\n",
              "      <td>True</td>\n",
              "      <td>True</td>\n",
              "      <td>True</td>\n",
              "      <td>True</td>\n",
              "      <td>True</td>\n",
              "    </tr>\n",
              "    <tr>\n",
              "      <th>...</th>\n",
              "      <td>...</td>\n",
              "      <td>...</td>\n",
              "      <td>...</td>\n",
              "      <td>...</td>\n",
              "      <td>...</td>\n",
              "      <td>...</td>\n",
              "      <td>...</td>\n",
              "    </tr>\n",
              "    <tr>\n",
              "      <th>626</th>\n",
              "      <td>True</td>\n",
              "      <td>True</td>\n",
              "      <td>True</td>\n",
              "      <td>True</td>\n",
              "      <td>True</td>\n",
              "      <td>True</td>\n",
              "      <td>True</td>\n",
              "    </tr>\n",
              "    <tr>\n",
              "      <th>627</th>\n",
              "      <td>True</td>\n",
              "      <td>True</td>\n",
              "      <td>True</td>\n",
              "      <td>True</td>\n",
              "      <td>True</td>\n",
              "      <td>True</td>\n",
              "      <td>True</td>\n",
              "    </tr>\n",
              "    <tr>\n",
              "      <th>628</th>\n",
              "      <td>True</td>\n",
              "      <td>True</td>\n",
              "      <td>True</td>\n",
              "      <td>True</td>\n",
              "      <td>True</td>\n",
              "      <td>True</td>\n",
              "      <td>True</td>\n",
              "    </tr>\n",
              "    <tr>\n",
              "      <th>629</th>\n",
              "      <td>True</td>\n",
              "      <td>True</td>\n",
              "      <td>True</td>\n",
              "      <td>True</td>\n",
              "      <td>True</td>\n",
              "      <td>True</td>\n",
              "      <td>True</td>\n",
              "    </tr>\n",
              "    <tr>\n",
              "      <th>630</th>\n",
              "      <td>True</td>\n",
              "      <td>True</td>\n",
              "      <td>True</td>\n",
              "      <td>True</td>\n",
              "      <td>True</td>\n",
              "      <td>True</td>\n",
              "      <td>True</td>\n",
              "    </tr>\n",
              "  </tbody>\n",
              "</table>\n",
              "<p>631 rows × 7 columns</p>\n",
              "</div>"
            ],
            "text/plain": [
              "     Date  Open  High   Low  Close  Adj Close  Volume\n",
              "0    True  True  True  True   True       True    True\n",
              "1    True  True  True  True   True       True    True\n",
              "2    True  True  True  True   True       True    True\n",
              "3    True  True  True  True   True       True    True\n",
              "4    True  True  True  True   True       True    True\n",
              "..    ...   ...   ...   ...    ...        ...     ...\n",
              "626  True  True  True  True   True       True    True\n",
              "627  True  True  True  True   True       True    True\n",
              "628  True  True  True  True   True       True    True\n",
              "629  True  True  True  True   True       True    True\n",
              "630  True  True  True  True   True       True    True\n",
              "\n",
              "[631 rows x 7 columns]"
            ]
          },
          "execution_count": 13,
          "metadata": {},
          "output_type": "execute_result"
        }
      ],
      "source": [
        "df1.notnull()"
      ]
    },
    {
      "cell_type": "code",
      "execution_count": null,
      "id": "cE0NpAGsMK5y",
      "metadata": {
        "id": "cE0NpAGsMK5y"
      },
      "outputs": [],
      "source": []
    },
    {
      "cell_type": "code",
      "execution_count": 14,
      "id": "SriFGccqKVFW",
      "metadata": {
        "colab": {
          "base_uri": "https://localhost:8080/"
        },
        "id": "SriFGccqKVFW",
        "outputId": "70539dec-1b97-49b8-c93f-a3b0f5209d46"
      },
      "outputs": [
        {
          "data": {
            "text/plain": [
              "0"
            ]
          },
          "execution_count": 14,
          "metadata": {},
          "output_type": "execute_result"
        }
      ],
      "source": [
        "df1[\"Volume\"].isnull().sum()"
      ]
    },
    {
      "cell_type": "code",
      "execution_count": 15,
      "id": "Qcwm-YaBS6zt",
      "metadata": {
        "colab": {
          "base_uri": "https://localhost:8080/",
          "height": 293
        },
        "id": "Qcwm-YaBS6zt",
        "outputId": "86f96b2b-fe94-4381-b513-b68d00294c40"
      },
      "outputs": [
        {
          "data": {
            "text/html": [
              "<div>\n",
              "<style scoped>\n",
              "    .dataframe tbody tr th:only-of-type {\n",
              "        vertical-align: middle;\n",
              "    }\n",
              "\n",
              "    .dataframe tbody tr th {\n",
              "        vertical-align: top;\n",
              "    }\n",
              "\n",
              "    .dataframe thead th {\n",
              "        text-align: right;\n",
              "    }\n",
              "</style>\n",
              "<table border=\"1\" class=\"dataframe\">\n",
              "  <thead>\n",
              "    <tr style=\"text-align: right;\">\n",
              "      <th></th>\n",
              "      <th>Date</th>\n",
              "      <th>Open</th>\n",
              "      <th>High</th>\n",
              "      <th>Low</th>\n",
              "      <th>Close</th>\n",
              "      <th>Adj Close</th>\n",
              "      <th>Volume</th>\n",
              "    </tr>\n",
              "  </thead>\n",
              "  <tbody>\n",
              "    <tr>\n",
              "      <th>0</th>\n",
              "      <td>2021-07-23</td>\n",
              "      <td>116.000000</td>\n",
              "      <td>138.899994</td>\n",
              "      <td>115.000000</td>\n",
              "      <td>126.000000</td>\n",
              "      <td>126.000000</td>\n",
              "      <td>694895290</td>\n",
              "    </tr>\n",
              "    <tr>\n",
              "      <th>1</th>\n",
              "      <td>2021-07-26</td>\n",
              "      <td>126.349998</td>\n",
              "      <td>143.750000</td>\n",
              "      <td>125.300003</td>\n",
              "      <td>140.649994</td>\n",
              "      <td>140.649994</td>\n",
              "      <td>249723854</td>\n",
              "    </tr>\n",
              "    <tr>\n",
              "      <th>2</th>\n",
              "      <td>2021-07-27</td>\n",
              "      <td>141.699997</td>\n",
              "      <td>147.800003</td>\n",
              "      <td>127.750000</td>\n",
              "      <td>132.899994</td>\n",
              "      <td>132.899994</td>\n",
              "      <td>240341900</td>\n",
              "    </tr>\n",
              "    <tr>\n",
              "      <th>3</th>\n",
              "      <td>2021-07-28</td>\n",
              "      <td>131.000000</td>\n",
              "      <td>135.000000</td>\n",
              "      <td>123.550003</td>\n",
              "      <td>131.199997</td>\n",
              "      <td>131.199997</td>\n",
              "      <td>159793731</td>\n",
              "    </tr>\n",
              "    <tr>\n",
              "      <th>4</th>\n",
              "      <td>2021-07-29</td>\n",
              "      <td>134.949997</td>\n",
              "      <td>144.000000</td>\n",
              "      <td>132.199997</td>\n",
              "      <td>141.550003</td>\n",
              "      <td>141.550003</td>\n",
              "      <td>117973089</td>\n",
              "    </tr>\n",
              "  </tbody>\n",
              "</table>\n",
              "</div>"
            ],
            "text/plain": [
              "         Date        Open        High         Low       Close   Adj Close  \\\n",
              "0  2021-07-23  116.000000  138.899994  115.000000  126.000000  126.000000   \n",
              "1  2021-07-26  126.349998  143.750000  125.300003  140.649994  140.649994   \n",
              "2  2021-07-27  141.699997  147.800003  127.750000  132.899994  132.899994   \n",
              "3  2021-07-28  131.000000  135.000000  123.550003  131.199997  131.199997   \n",
              "4  2021-07-29  134.949997  144.000000  132.199997  141.550003  141.550003   \n",
              "\n",
              "      Volume  \n",
              "0  694895290  \n",
              "1  249723854  \n",
              "2  240341900  \n",
              "3  159793731  \n",
              "4  117973089  "
            ]
          },
          "execution_count": 15,
          "metadata": {},
          "output_type": "execute_result"
        }
      ],
      "source": [
        "df1.head()"
      ]
    },
    {
      "cell_type": "code",
      "execution_count": 16,
      "id": "XYsFNJ24S-dj",
      "metadata": {
        "colab": {
          "base_uri": "https://localhost:8080/"
        },
        "id": "XYsFNJ24S-dj",
        "outputId": "7e401a06-a53f-49e3-8730-23ed0269f0c4"
      },
      "outputs": [
        {
          "data": {
            "text/plain": [
              "2"
            ]
          },
          "execution_count": 16,
          "metadata": {},
          "output_type": "execute_result"
        }
      ],
      "source": [
        "len([\"Renamd 1\", \"Renamed 2\"])"
      ]
    },
    {
      "cell_type": "code",
      "execution_count": 17,
      "id": "FPVs4vjuTEDb",
      "metadata": {
        "colab": {
          "base_uri": "https://localhost:8080/"
        },
        "id": "FPVs4vjuTEDb",
        "outputId": "2b512d03-2c1a-4150-ef7e-57d40a522fdf"
      },
      "outputs": [
        {
          "data": {
            "text/plain": [
              "7"
            ]
          },
          "execution_count": 17,
          "metadata": {},
          "output_type": "execute_result"
        }
      ],
      "source": [
        "len(df1.columns)"
      ]
    },
    {
      "cell_type": "code",
      "execution_count": 18,
      "id": "cMN_ebwvTGRC",
      "metadata": {
        "id": "cMN_ebwvTGRC"
      },
      "outputs": [],
      "source": [
        "df1.columns = [\"Date\", \"Open\", \"High\", \"Low\", \"Close\", \"Adj Close\", \"Volume\"]"
      ]
    },
    {
      "cell_type": "code",
      "execution_count": null,
      "id": "ewLsp7mBTKRU",
      "metadata": {
        "id": "ewLsp7mBTKRU"
      },
      "outputs": [],
      "source": []
    },
    {
      "cell_type": "code",
      "execution_count": 19,
      "id": "fDRFGivjLpNQ",
      "metadata": {
        "id": "fDRFGivjLpNQ"
      },
      "outputs": [],
      "source": [
        "df1.columns = [\"Renamd 1\", \"Renamed 2\",\"Renamed 3\", \"Renamed 4\",\"Renamed 5\",\"Renamed 6\", \"Renamed 7\"]"
      ]
    },
    {
      "cell_type": "code",
      "execution_count": 20,
      "id": "hfwtX2oHPnRr",
      "metadata": {
        "colab": {
          "base_uri": "https://localhost:8080/",
          "height": 280
        },
        "id": "hfwtX2oHPnRr",
        "outputId": "37c91b96-799c-45c6-ab14-7e0754cfed83"
      },
      "outputs": [
        {
          "ename": "AttributeError",
          "evalue": "'DataFrame' object has no attribute 'categorical_values_column'",
          "output_type": "error",
          "traceback": [
            "\u001b[1;31m---------------------------------------------------------------------------\u001b[0m",
            "\u001b[1;31mAttributeError\u001b[0m                            Traceback (most recent call last)",
            "\u001b[1;32m~\\AppData\\Local\\Temp\\ipykernel_18312\\4236946084.py\u001b[0m in \u001b[0;36m?\u001b[1;34m()\u001b[0m\n\u001b[1;32m----> 1\u001b[1;33m \u001b[0mdf1\u001b[0m\u001b[1;33m.\u001b[0m\u001b[0mcategorical_values_column\u001b[0m\u001b[1;33m.\u001b[0m\u001b[0mvalue_counts\u001b[0m\u001b[1;33m(\u001b[0m\u001b[1;33m)\u001b[0m\u001b[1;33m\u001b[0m\u001b[1;33m\u001b[0m\u001b[0m\n\u001b[0m",
            "\u001b[1;32mc:\\Users\\dasan\\AppData\\Local\\Programs\\Python\\Python312\\Lib\\site-packages\\pandas\\core\\generic.py\u001b[0m in \u001b[0;36m?\u001b[1;34m(self, name)\u001b[0m\n\u001b[0;32m   6292\u001b[0m             \u001b[1;32mand\u001b[0m \u001b[0mname\u001b[0m \u001b[1;32mnot\u001b[0m \u001b[1;32min\u001b[0m \u001b[0mself\u001b[0m\u001b[1;33m.\u001b[0m\u001b[0m_accessors\u001b[0m\u001b[1;33m\u001b[0m\u001b[1;33m\u001b[0m\u001b[0m\n\u001b[0;32m   6293\u001b[0m             \u001b[1;32mand\u001b[0m \u001b[0mself\u001b[0m\u001b[1;33m.\u001b[0m\u001b[0m_info_axis\u001b[0m\u001b[1;33m.\u001b[0m\u001b[0m_can_hold_identifiers_and_holds_name\u001b[0m\u001b[1;33m(\u001b[0m\u001b[0mname\u001b[0m\u001b[1;33m)\u001b[0m\u001b[1;33m\u001b[0m\u001b[1;33m\u001b[0m\u001b[0m\n\u001b[0;32m   6294\u001b[0m         \u001b[1;33m)\u001b[0m\u001b[1;33m:\u001b[0m\u001b[1;33m\u001b[0m\u001b[1;33m\u001b[0m\u001b[0m\n\u001b[0;32m   6295\u001b[0m             \u001b[1;32mreturn\u001b[0m \u001b[0mself\u001b[0m\u001b[1;33m[\u001b[0m\u001b[0mname\u001b[0m\u001b[1;33m]\u001b[0m\u001b[1;33m\u001b[0m\u001b[1;33m\u001b[0m\u001b[0m\n\u001b[1;32m-> 6296\u001b[1;33m         \u001b[1;32mreturn\u001b[0m \u001b[0mobject\u001b[0m\u001b[1;33m.\u001b[0m\u001b[0m__getattribute__\u001b[0m\u001b[1;33m(\u001b[0m\u001b[0mself\u001b[0m\u001b[1;33m,\u001b[0m \u001b[0mname\u001b[0m\u001b[1;33m)\u001b[0m\u001b[1;33m\u001b[0m\u001b[1;33m\u001b[0m\u001b[0m\n\u001b[0m",
            "\u001b[1;31mAttributeError\u001b[0m: 'DataFrame' object has no attribute 'categorical_values_column'"
          ]
        }
      ],
      "source": [
        "df1.categorical_values_column.value_counts()"
      ]
    },
    {
      "cell_type": "code",
      "execution_count": null,
      "id": "juruNG3_V3Bo",
      "metadata": {
        "id": "juruNG3_V3Bo"
      },
      "outputs": [
        {
          "ename": "NameError",
          "evalue": "name 'df1' is not defined",
          "output_type": "error",
          "traceback": [
            "\u001b[1;31m---------------------------------------------------------------------------\u001b[0m",
            "\u001b[1;31mNameError\u001b[0m                                 Traceback (most recent call last)",
            "Cell \u001b[1;32mIn[2], line 1\u001b[0m\n\u001b[1;32m----> 1\u001b[0m \u001b[43mdf1\u001b[49m[\u001b[38;5;124m'\u001b[39m\u001b[38;5;124mcategorical_values_column\u001b[39m\u001b[38;5;124m'\u001b[39m]\u001b[38;5;241m.\u001b[39mvalue_counts()\n",
            "\u001b[1;31mNameError\u001b[0m: name 'df1' is not defined"
          ]
        }
      ],
      "source": [
        "\n",
        "df1['categorical_values_column'].value_counts()"
      ]
    },
    {
      "cell_type": "code",
      "execution_count": null,
      "id": "2ff24e83",
      "metadata": {},
      "outputs": [],
      "source": []
    }
  ],
  "metadata": {
    "colab": {
      "provenance": []
    },
    "kernelspec": {
      "display_name": "Python 3.8.10 64-bit",
      "language": "python",
      "name": "python3"
    },
    "language_info": {
      "codemirror_mode": {
        "name": "ipython",
        "version": 3
      },
      "file_extension": ".py",
      "mimetype": "text/x-python",
      "name": "python",
      "nbconvert_exporter": "python",
      "pygments_lexer": "ipython3",
      "version": "3.12.2"
    },
    "vscode": {
      "interpreter": {
        "hash": "e7370f93d1d0cde622a1f8e1c04877d8463912d04d973331ad4851f04de6915a"
      }
    }
  },
  "nbformat": 4,
  "nbformat_minor": 5
}
